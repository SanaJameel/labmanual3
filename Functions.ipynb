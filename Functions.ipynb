{
 "cells": [
  {
   "cell_type": "code",
   "execution_count": 4,
   "id": "70062689",
   "metadata": {},
   "outputs": [
    {
     "name": "stdout",
     "output_type": "stream",
     "text": [
      "Enter a sentence =my name is sana\n",
      "Your sentence : ymAY amenAY siAY anasAY \n"
     ]
    }
   ],
   "source": [
    "sentence=input(\"Enter a sentence =\")\n",
    "result=\"\"\n",
    "Words=sentence.split(\" \")\n",
    "for i in range(0,len(Words)):\n",
    "    if(len(Words[i])>1):\n",
    "         result=result+(Words[i])[1:len(Words[i])]+(Words[i])[0]+\"AY \"\n",
    "    else:\n",
    "        result=result+Words[i]+\"AY \"\n",
    "    \n",
    "\n",
    "\n",
    "print(\"Your sentence :\",result)"
   ]
  },
  {
   "cell_type": "code",
   "execution_count": 12,
   "id": "2b9117b3",
   "metadata": {},
   "outputs": [
    {
     "name": "stdout",
     "output_type": "stream",
     "text": [
      "Enter a number: hy my name is sana\n",
      "Hy My Name Is Sana\n"
     ]
    }
   ],
   "source": [
    "def capitalizer(num):\n",
    "    new_word=num.title()\n",
    "    return new_word\n",
    "\n",
    "num=input(\"Enter a number: \")\n",
    "print(capitalizer(num))"
   ]
  },
  {
   "cell_type": "code",
   "execution_count": 5,
   "id": "73e7024b",
   "metadata": {},
   "outputs": [
    {
     "name": "stdout",
     "output_type": "stream",
     "text": [
      "Enter a value: 2514\n",
      "Sum of digits:  12\n"
     ]
    }
   ],
   "source": [
    "def sum(num):\n",
    "    if(num.isdigit()):\n",
    "        add=0\n",
    "        for i in range(0,len(num)):\n",
    "             add+=int(num[i])\n",
    "        return add\n",
    "value=input(\"Enter a value: \")\n",
    "print(\"Sum of digits: \",sum(value))\n"
   ]
  },
  {
   "cell_type": "code",
   "execution_count": 12,
   "id": "2492a9a1",
   "metadata": {
    "scrolled": true
   },
   "outputs": [
    {
     "name": "stdout",
     "output_type": "stream",
     "text": [
      "Enter the number in the format of 555-XXX-XXXX\n",
      "555-GET-FOOD\n",
      "555-438-3663\n"
     ]
    }
   ],
   "source": [
    "phoneNum = input('Enter the number in the format of 555-XXX-XXXX\\n')\n",
    "\n",
    "newPhoneNumber = ''\n",
    "for char in phoneNum:\n",
    "    if char == 'A' or char == 'B' or char == 'C':\n",
    "        char = '2'\n",
    "    elif char == 'D' or char == 'E' or char == 'F':\n",
    "        char = '3'\n",
    "    elif char == 'G' or char == 'H' or char == 'I':\n",
    "        char = '4'\n",
    "    elif char == 'J' or char == 'K' or char == 'L':\n",
    "        char = '5'\n",
    "    elif char == 'M' or char == 'N' or char == 'O':\n",
    "        char = '6'\n",
    "    elif char == 'P' or char == 'Q' or char == 'R' or char == 'S':\n",
    "        char = '7'\n",
    "    elif char == 'T' or char == 'U' or char == 'V':\n",
    "        char = '8'\n",
    "    elif char == 'W' or char == 'X' or char == 'Y' or char == 'Z':\n",
    "        char = '9'\n",
    "    newPhoneNumber = newPhoneNumber + char\n",
    "\n",
    "print(newPhoneNumber)"
   ]
  },
  {
   "cell_type": "code",
   "execution_count": 23,
   "id": "a2a9ac96",
   "metadata": {},
   "outputs": [
    {
     "name": "stdout",
     "output_type": "stream",
     "text": [
      "Enter a string to reverse : gift\n",
      "Incremental reverse strings :  ['t', 'tf', 'tfi', 'tfig']\n"
     ]
    }
   ],
   "source": [
    "def revString(input):\n",
    "    output=\"\"\n",
    "    for i in range(0,len(input)):\n",
    "        for j in reversed(range(len(input)-(i+1),len(input))):\n",
    "            output=output+input[j]\n",
    "        if(i!=(len(input)-1)):\n",
    "            output=output+\",\"\n",
    "    return output.split(\",\")        \n",
    "            \n",
    "\n",
    "inputString=input(\"Enter a string to reverse : \")\n",
    "outputString=revString(inputString)\n",
    "\n",
    "print(\"Incremental reverse strings : \",outputString)"
   ]
  }
 ],
 "metadata": {
  "kernelspec": {
   "display_name": "Python 3",
   "language": "python",
   "name": "python3"
  },
  "language_info": {
   "codemirror_mode": {
    "name": "ipython",
    "version": 3
   },
   "file_extension": ".py",
   "mimetype": "text/x-python",
   "name": "python",
   "nbconvert_exporter": "python",
   "pygments_lexer": "ipython3",
   "version": "3.8.8"
  }
 },
 "nbformat": 4,
 "nbformat_minor": 5
}
